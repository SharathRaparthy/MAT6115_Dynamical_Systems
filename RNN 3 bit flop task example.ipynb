{
 "cells": [
  {
   "cell_type": "markdown",
   "metadata": {},
   "source": [
    "# 3 bit flop task recurrent network\n",
    "Discrete recurrent neural network solving the 3-bit flop task. In the trained network, 8 stable fixed points are created along with saddle points that separate the basins of attraction of these attractors.\n",
    "\n",
    "See https://www.mitpressjournals.org/doi/10.1162/NECO_a_00409 for details.\n",
    "Code below curtesy of Aude Forcione-Lambert (2018)"
   ]
  },
  {
   "cell_type": "code",
   "execution_count": null,
   "metadata": {
    "collapsed": false
   },
   "outputs": [],
   "source": [
    "import numpy as np\n",
    "import matplotlib.pyplot as plt\n",
    "from matplotlib.lines import Line2D\n",
    "from mpl_toolkits.mplot3d import Axes3D\n",
    "from sklearn.decomposition import PCA\n",
    "%matplotlib notebook"
   ]
  },
  {
   "cell_type": "code",
   "execution_count": null,
   "metadata": {
    "collapsed": true
   },
   "outputs": [],
   "source": [
    "# import data\n",
    "X = np.loadtxt('Data/x_test_array.gz') # input\n",
    "Y = np.loadtxt('Data/y_test_array.gz') # target output\n",
    "Wout = np.loadtxt('Data/wout.gz') # output weights\n",
    "Win = np.loadtxt('Data/win.gz') # input weigths\n",
    "W = np.random.normal(size=[100,100]) # random connectivity matrix\n",
    "# W = np.loadtxt('Data/w.gz') # trained connectivity matrix\n",
    "N = W.shape[0]"
   ]
  },
  {
   "cell_type": "code",
   "execution_count": null,
   "metadata": {
    "collapsed": false
   },
   "outputs": [],
   "source": [
    "# simulation\n",
    "num_steps = 150\n",
    "S = np.ndarray([num_steps,N],dtype=float) # states\n",
    "S[0,:] = np.random.uniform(size=N) # random initial condition\n",
    "Out = np.ndarray([num_steps,3],dtype=float)\n",
    "for t in range(num_steps-1):\n",
    "    S[t+1,:] = np.tanh(np.dot(S[t,:],W)+np.dot(X[t,:],Win))\n",
    "    Out[t+1,:] = np.tanh(np.dot(S[t+1,:],Wout))"
   ]
  },
  {
   "cell_type": "code",
   "execution_count": null,
   "metadata": {
    "collapsed": false
   },
   "outputs": [],
   "source": [
    "# activity plots\n",
    "plt.figure()\n",
    "\n",
    "# inputs\n",
    "ax1 = plt.subplot(3, 1, 1)\n",
    "ax1.set_ylim([-1.2,1.2])\n",
    "plt.plot(X[:num_steps,0],'b--')\n",
    "plt.plot(X[:num_steps,1],'r--')\n",
    "plt.plot(X[:num_steps,2],'g--')\n",
    "plt.title('inputs')\n",
    "plt.setp(ax1.get_xticklabels(), visible=False)\n",
    "\n",
    "\n",
    "# outputs\n",
    "ax2 = plt.subplot(3,1,2,sharex=ax1)\n",
    "ax2.set_ylim([-1.2,1.2])\n",
    "plt.plot(Out[:,0],'b')\n",
    "plt.plot(Out[:,1],'r')\n",
    "plt.plot(Out[:,2],'g')\n",
    "plt.title('outputs')\n",
    "plt.setp(ax2.get_xticklabels(), visible=False)\n",
    "\n",
    "# activations\n",
    "ax3 = plt.subplot(3,1,3,sharex=ax1)\n",
    "for n in range(N):\n",
    "    plt.plot(n*S[:,n])\n",
    "plt.title('activations')\n"
   ]
  },
  {
   "cell_type": "code",
   "execution_count": null,
   "metadata": {
    "collapsed": false
   },
   "outputs": [],
   "source": [
    "# dimensionality reduction and activity projection\n",
    "\n",
    "# principal component analysis\n",
    "pca = PCA(n_components=N)\n",
    "pca.fit(S)\n",
    "s = pca.transform(S)\n",
    "\n",
    "# explained variance plot\n",
    "plt.figure()\n",
    "plt.plot(pca.explained_variance_ratio_.cumsum(),'k.')\n",
    "plt.plot([0,pca.n_components],[1,1],'k--')\n",
    "\n",
    "# # activation projections\n",
    "# fig = plt.figure(figsize=(8,6))\n",
    "# ax = fig.add_subplot(111, projection='3d')\n",
    "# ax.plot(s[:,0], s[:,1], s[:,2], '-k', linewidth=0.5, alpha=0.5)\n",
    "# ax.set_xlabel('PC1')\n",
    "# ax.set_ylabel('PC2')\n",
    "# ax.set_zlabel('PC3')\n",
    "# ax.view_init(39,-126)\n",
    "# plt.tight_layout()"
   ]
  }
 ],
 "metadata": {
  "kernelspec": {
   "display_name": "Python 3",
   "language": "python",
   "name": "python3"
  },
  "language_info": {
   "codemirror_mode": {
    "name": "ipython",
    "version": 3
   },
   "file_extension": ".py",
   "mimetype": "text/x-python",
   "name": "python",
   "nbconvert_exporter": "python",
   "pygments_lexer": "ipython3",
   "version": "3.5.2"
  }
 },
 "nbformat": 4,
 "nbformat_minor": 0
}
