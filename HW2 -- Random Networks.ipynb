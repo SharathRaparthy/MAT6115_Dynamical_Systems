{
 "cells": [
  {
   "cell_type": "markdown",
   "metadata": {},
   "source": [
    "# HW2 (MAT6115) Dynamics of Random Networks\n",
    "\n",
    "## Instructions\n",
    "Please provide you code and its output. You are strongly encouraged to write your code directly in this python notebook, but you may submit your results in a manner of your choice.\n",
    "\n",
    "## Random Network System\n",
    "In this homework, you will explore the dynamics of a random network of scalar units. Consider the system\n",
    "$$\n",
    "\\dot x = f(x) = -x + gW\\sigma(x)\n",
    "$$\n",
    "where $x\\in\\mathbb(R)^N$ are units (neurons), $g>0$ is the gain, $W \\in \\mathbb{R}^{N\\times N}$ the coupling matrix, and $\\sigma(x)=\\tanh(x)$ is a nonlinearity (applied element-wise). Consider the matrix $W$ where each entry is independently and randomly sampled from a normal distribution with zero mean and variance $\\frac{1}{N}$ (i.e. $w_{ij}\\sim^{\\text iid} \\mathcal{N}(0,\\frac{1}{N})$).\n"
   ]
  },
  {
   "cell_type": "markdown",
   "metadata": {},
   "source": [
    "## 1- Stability of Fixed Points\n",
    "For N=100,\n",
    "### (a)\n",
    "In the complex plane, plot the eignespectra of $Df(0)$ for $g=0.9,1.0,1.1$. What can you say about the stability of the fixed point at $x=0$ as $g$ is varied?\n",
    "\n",
    "### (b)\n",
    "Plot trajectories of the system (using different colors to plot distinct $x_n(t)$) for the values of $g$ above. Discuss the changes in these trajectories.\n",
    "\n",
    "### (c)\n",
    "If you sample different $W$, and for $N=500,1000$, how are things affected ?"
   ]
  },
  {
   "cell_type": "markdown",
   "metadata": {},
   "source": [
    "## 2-Lyapunov Spectra\n",
    "### (a)\n",
    "Using the QR algorithm, compute the Lyapunov spectrum of the system for $g=0.9,1.0,1.1$, for randomly chosen initial condition $x_0$. How are the spectra affected by $g$ and by different choice of initial condition?\n",
    "\n",
    "### (b)\n",
    "Compute the first 100 Lyapunov exponents of the system for $g=0.9,1.0,1.1$, and for $N= 500, 1000$. Discuss the nehavior of the Lyapunov spectrum as $N$ is varied.\n",
    "\n",
    "### (c)\n",
    "Derive a new algorithm to compute the Lyap\n"
   ]
  },
  {
   "cell_type": "markdown",
   "metadata": {},
   "source": [
    "## 3-Entropy and Dimension\n",
    "\n",
    "### (a)\n",
    "For all the cases in (a) and (b), compute the Kolmogorov-Sinai entropy. How is the entropy production affected by $g$ and $N$?\n",
    "\n",
    "### (b) \n",
    "For all the cases in (a) and (b), compute the Kaplan-Yorke dimension of the attractor. How is the dimension affected by $g$ and $N$?"
   ]
  },
  {
   "cell_type": "markdown",
   "metadata": {},
   "source": [
    "## BONUS\n",
    "If you start correlating the weights $w_{ij}$ in the coupling matrix $W$, how are the results above chenged. For example, you may ask for the matrix $W$ to be more symmetric, antisymmetric, to have clusters that are more strongly connected (pick a certain statistical structure and investigate)."
   ]
  }
 ],
 "metadata": {
  "anaconda-cloud": {},
  "kernelspec": {
   "display_name": "Python 3",
   "language": "python",
   "name": "python3"
  },
  "language_info": {
   "codemirror_mode": {
    "name": "ipython",
    "version": 3
   },
   "file_extension": ".py",
   "mimetype": "text/x-python",
   "name": "python",
   "nbconvert_exporter": "python",
   "pygments_lexer": "ipython3",
   "version": "3.7.0"
  }
 },
 "nbformat": 4,
 "nbformat_minor": 1
}
